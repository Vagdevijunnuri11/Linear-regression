{
 "cells": [
  {
   "cell_type": "markdown",
   "metadata": {},
   "source": [
    "\n",
    "# Linear Regression Example\n",
    "\n",
    "This example uses the truck sales dataset to illustrate ordinary least-squares (OLS), or linear regression. The\n",
    "plot shows the line that linear regression learns, which best minimizes the residual sum of squares\n",
    "between the observed responses in the dataset, and the responses predicted by\n",
    "the linear approximation. We also compute the residual sum of squares and the variance score for the model.\n",
    "\n"
   ]
  },
  {
   "cell_type": "code",
   "execution_count": 1,
   "metadata": {},
   "outputs": [
    {
     "name": "stdout",
     "output_type": "stream",
     "text": [
      "y = 3.388637 + -0.057268x\n",
      "Mean squared error: 0.184517\n",
      "Variance score: 0.011962\n"
     ]
    },
    {
     "data": {
      "image/png": "[encoded data removed]",
      "text/plain": [
       "<Figure size 432x288 with 1 Axes>"
      ]
     },
     "metadata": {
      "needs_background": "light"
     },
     "output_type": "display_data"
    }
   ],
   "source": [
    "%matplotlib inline\n",
    "import matplotlib.pyplot as plt\n",
    "import numpy as np\n",
    "import pandas as pd\n",
    "from sklearn import linear_model\n",
    "\n",
    "# Get data\n",
    "df = pd.read_csv(\n",
    "    filepath_or_buffer='data/iris.data', \n",
    "    header=None)\n",
    "data = df.iloc[:,:].values\n",
    "X = data[:,0].reshape(-1, 1)\n",
    "Y = data[:,1].reshape(-1, 1)\n",
    "\n",
    "# Train the model using the training sets\n",
    "regr = linear_model.LinearRegression()\n",
    "regr.fit(X, Y)\n",
    "slope = regr.coef_[0][0]\n",
    "intercept = regr.intercept_\n",
    "\n",
    "print(\"y = %f + %fx\" %(intercept, slope))\n",
    "print(\"Mean squared error: %f\"\n",
    "      % np.mean((regr.predict(X) - Y) ** 2))\n",
    "# Explained variance score: 1 is perfect prediction\n",
    "print('Variance score: %f' % regr.score(X, Y))\n",
    "\n",
    "# Plot outputs\n",
    "plt.scatter(X, Y,  color='black')\n",
    "plt.plot(X, regr.predict(X), color='red',\n",
    "          linewidth=1)\n",
    "plt.show()"
   ]
  },
  {
   "cell_type": "markdown",
   "metadata": {},
   "source": [
    "In the cell below, we load a subset of the Iris dataset from UCI, specifically all the samples for the \"Iris Setosa\" flower. The function `model` finds the OLS model for a pair of features in the data and computes the residual sum of squares and the variance score for that model. The parameters `v1` and `v2` are the names of the X and Y variables."
   ]
  },
  {
   "cell_type": "code",
   "execution_count": 2,
   "metadata": {},
   "outputs": [],
   "source": [
    "import numpy as np\n",
    "import pandas as pd\n",
    "from sklearn import linear_model\n",
    "\n",
    "df = pd.read_csv(\n",
    "    filepath_or_buffer='https://archive.ics.uci.edu/ml/machine-learning-databases/iris/iris.data', \n",
    "    header=None)\n",
    "data = df.iloc[:,:].values\n",
    "data = data[data[:,4] == \"Iris-setosa\"][:,:4]\n",
    "\n",
    "def model(X, Y, v1=\"A\", v2=\"B\"):\n",
    "    X = X.reshape(-1, 1)\n",
    "    Y = Y.reshape(-1, 1)\n",
    "    regr = linear_model.LinearRegression()\n",
    "    regr.fit(X, Y)\n",
    "    slope = regr.coef_[0][0]\n",
    "    intercept = regr.intercept_[0]\n",
    "\n",
    "    print(\"%s = %f + %fx%s\" %(v2, intercept, slope, v1))\n",
    "    sse = np.sum((regr.predict(X) - Y) ** 2)\n",
    "    print(\"Sum of squared errors: %f\" % sse)\n",
    "    # Explained variance score: 1 is perfect prediction\n",
    "    print('Variance score: %f' % regr.score(X, Y))\n",
    "    return slope, intercept, sse, v1, v2\n"
   ]
  },
  {
   "cell_type": "markdown",
   "metadata": {},
   "source": [
    "Exercise\n",
    "======\n",
    "\n",
    "The samples have 4 features. For each combination of features (each pair or features), consider one of the variables as predictor and the other as response and use the function `model` to find the OLS model that best fits the data. Report the model with the smallest SSE score."
   ]
  },
  {
   "cell_type": "code",
   "execution_count": 3,
   "metadata": {},
   "outputs": [
    {
     "name": "stdout",
     "output_type": "stream",
     "text": [
      "1 = -0.623012 + 0.807234x0\n",
      "Sum of squared errors: 3.146569\n",
      "Variance score: 0.557681\n",
      "2 = 0.813768 + 0.129891x0\n",
      "Sum of squared errors: 1.372483\n",
      "Variance score: 0.069630\n",
      "3 = -0.180937 + 0.084886x0\n",
      "Sum of squared errors: 0.519331\n",
      "Variance score: 0.077892\n",
      "0 = 2.644660 + 0.690854x1\n",
      "Sum of squared errors: 2.692927\n",
      "Variance score: 0.557681\n",
      "2 = 1.188976 + 0.080463x1\n",
      "Sum of squared errors: 1.429143\n",
      "Variance score: 0.031221\n",
      "3 = -0.025258 + 0.078776x1\n",
      "Sum of squared errors: 0.519054\n",
      "Variance score: 0.078385\n",
      "0 = 4.221204 + 0.536063x2\n",
      "Sum of squared errors: 5.664281\n",
      "Variance score: 0.069630\n",
      "1 = 2.849946 + 0.388015x2\n",
      "Sum of squared errors: 6.891700\n",
      "Variance score: 0.031221\n",
      "3 = -0.033080 + 0.189262x2\n",
      "Sum of squared errors: 0.510358\n",
      "Variance score: 0.093825\n",
      "0 = 4.782102 + 0.917614x3\n",
      "Sum of squared errors: 5.613977\n",
      "Variance score: 0.077892\n",
      "1 = 3.175213 + 0.995028x3\n",
      "Sum of squared errors: 6.556186\n",
      "Variance score: 0.078385\n",
      "2 = 1.343040 + 0.495739x3\n",
      "Sum of squared errors: 1.336790\n",
      "Variance score: 0.093825\n"
     ]
    }
   ],
   "source": [
    "import math\n",
    "lowest_sse = math.inf\n",
    "columns = df.columns[:4]\n",
    "chosen_model = ()\n",
    "for i in range(4):\n",
    "    for j in range(4):\n",
    "        if i!=j:\n",
    "            slope, intercept, sse, v1, v2 = model(data[:,i], data[:,j], v1=columns[i], v2=columns[j])\n",
    "            if sse < lowest_sse:\n",
    "                lowest_sse = sse\n",
    "                chosen_model = (slope, intercept, sse, v1, v2)"
   ]
  },
  {
   "cell_type": "code",
   "execution_count": 4,
   "metadata": {},
   "outputs": [
    {
     "name": "stdout",
     "output_type": "stream",
     "text": [
      "Details of model with smallest SSE:\n",
      "Slope of the model :0.189262\n",
      "Intercept of the model: -0.033080\n",
      "SSE for the model: 0.510358\n"
     ]
    }
   ],
   "source": [
    "print('Details of model with smallest SSE:')\n",
    "print('Slope of the model :%f' %chosen_model[0])\n",
    "print('Intercept of the model: %f' %chosen_model[1])\n",
    "print('SSE for the model: %f' % chosen_model[2])"
   ]
  },
  {
   "cell_type": "code",
   "execution_count": null,
   "metadata": {},
   "outputs": [],
   "source": []
  }
 ],
 "metadata": {
  "anaconda-cloud": {},
  "kernelspec": {
   "display_name": "Python 3",
   "language": "python",
   "name": "python3"
  },
  "language_info": {
   "codemirror_mode": {
    "name": "ipython",
    "version": 3
   },
   "file_extension": ".py",
   "mimetype": "text/x-python",
   "name": "python",
   "nbconvert_exporter": "python",
   "pygments_lexer": "ipython3",
   "version": "3.8.8"
  }
 },
 "nbformat": 4,
 "nbformat_minor": 1
}
